{
 "cells": [
  {
   "cell_type": "markdown",
   "metadata": {},
   "source": [
    "# Databases, collections, and documents\n",
    "\n",
    "\n",
    "1) see all dbs\n",
    "\n",
    "2) create Collection\n",
    "\n",
    "3) connect to it\n",
    "\n",
    "4) insert a Query \n",
    "\n",
    "5) use db.count()\n",
    "\n",
    "6) use db.find()\n",
    "\n",
    "7) \\$and \n",
    "\n",
    "8) \\$or\n",
    "\n",
    "9) \\$set\n",
    "\n",
    "10) remove\n",
    "\n",
    "11) drop\n",
    "\n",
    "12) large Collections\n",
    "\n",
    "9) final results"
   ]
  },
  {
   "cell_type": "code",
   "execution_count": 1,
   "metadata": {},
   "outputs": [
    {
     "data": {},
     "metadata": {},
     "output_type": "display_data"
    },
    {
     "data": {},
     "metadata": {},
     "output_type": "display_data"
    },
    {
     "data": {
      "text/plain": [
       "api_bots    0.000GB\r\n",
       "banner      0.000GB\r\n",
       "customer    0.000GB\r\n",
       "customer2   0.000GB\r\n",
       "imongo      0.000GB\r\n",
       "local       0.000GB\r\n",
       "main        0.000GB\r\n",
       "mongo       0.000GB\r\n",
       "new_imongo  0.000GB\r\n",
       "numbers     0.000GB\r\n",
       "terminator  0.000GB\r\n",
       "test        0.004GB\r\n",
       "tools       0.000GB"
      ]
     },
     "execution_count": 1,
     "metadata": {},
     "output_type": "execute_result"
    }
   ],
   "source": [
    "show dbs"
   ]
  },
  {
   "cell_type": "markdown",
   "metadata": {},
   "source": [
    "this is realy simple collection"
   ]
  },
  {
   "cell_type": "code",
   "execution_count": 4,
   "metadata": {},
   "outputs": [
    {
     "data": {
      "text/html": [
       "<style>a.disclosure:link{text-decoration:none;}a.disclosure:visited{text-decoration:none;}.disclosure{color:#337AB7;font-size:150%;}.syntax{color:grey;}.string{color:#9A334F;}.number{color:#5C9632;}.boolean{color:#AA9739;}.key{color:#403075;}.keyword{color:#AA9739;}.object.syntax{color:#337AB7;}.array.syntax{color:#337AB7;}></style><div id=\"340d75f1-a626-4098-af94-21dd1a104684\"></div>"
      ]
     },
     "metadata": {},
     "output_type": "display_data"
    },
    {
     "data": {
      "application/javascript": [
       "require([\"https://rawgit.com/caldwell/renderjson/master/renderjson.js\"], function() {document.getElementById('340d75f1-a626-4098-af94-21dd1a104684').appendChild(renderjson.set_show_to_level(2)({\"ok\": 1}))});"
      ]
     },
     "metadata": {},
     "output_type": "display_data"
    },
    {
     "data": {
      "text/plain": [
       "{ \"ok\" : 1 }"
      ]
     },
     "execution_count": 4,
     "metadata": {},
     "output_type": "execute_result"
    }
   ],
   "source": [
    "db.createCollection(\"keyvan\")\n"
   ]
  },
  {
   "cell_type": "markdown",
   "metadata": {},
   "source": [
    " Inserts and queries\n",
    " connect to \"keyvan\" collection and insert informations"
   ]
  },
  {
   "cell_type": "code",
   "execution_count": 2,
   "metadata": {},
   "outputs": [],
   "source": [
    "db.keyvan.insert({username: \"keyvan\" , lastname: \"vafaee\", age:21})\n",
    "\n"
   ]
  },
  {
   "cell_type": "code",
   "execution_count": 4,
   "metadata": {},
   "outputs": [],
   "source": [
    "db.keyvan.find({username:\"keyvan\"})"
   ]
  },
  {
   "cell_type": "markdown",
   "metadata": {},
   "source": [
    "this is only one collection "
   ]
  },
  {
   "cell_type": "code",
   "execution_count": 1,
   "metadata": {},
   "outputs": [
    {
     "data": {
      "text/html": [
       "<style>a.disclosure:link{text-decoration:none;}a.disclosure:visited{text-decoration:none;}.disclosure{color:#337AB7;font-size:150%;}.syntax{color:grey;}.string{color:#9A334F;}.number{color:#5C9632;}.boolean{color:#AA9739;}.key{color:#403075;}.keyword{color:#AA9739;}.object.syntax{color:#337AB7;}.array.syntax{color:#337AB7;}></style><div id=\"314ee397-ec33-4dee-90d4-1cf1b64dd997\"></div>"
      ]
     },
     "metadata": {},
     "output_type": "display_data"
    },
    {
     "data": {
      "application/javascript": [
       "require([\"https://rawgit.com/caldwell/renderjson/master/renderjson.js\"], function() {document.getElementById('314ee397-ec33-4dee-90d4-1cf1b64dd997').appendChild(renderjson.set_show_to_level(2)(1))});"
      ]
     },
     "metadata": {},
     "output_type": "display_data"
    },
    {
     "data": {
      "text/plain": [
       "1"
      ]
     },
     "execution_count": 1,
     "metadata": {},
     "output_type": "execute_result"
    }
   ],
   "source": [
    "db.keyvan.count()\n"
   ]
  },
  {
   "cell_type": "markdown",
   "metadata": {},
   "source": [
    " let's add another user info"
   ]
  },
  {
   "cell_type": "code",
   "execution_count": 2,
   "metadata": {},
   "outputs": [],
   "source": [
    "db.keyvan.insert({username: \"Mojtaba\" , lastname:\"zamani\"})\n"
   ]
  },
  {
   "cell_type": "code",
   "execution_count": 3,
   "metadata": {},
   "outputs": [
    {
     "data": {
      "text/html": [
       "<style>a.disclosure:link{text-decoration:none;}a.disclosure:visited{text-decoration:none;}.disclosure{color:#337AB7;font-size:150%;}.syntax{color:grey;}.string{color:#9A334F;}.number{color:#5C9632;}.boolean{color:#AA9739;}.key{color:#403075;}.keyword{color:#AA9739;}.object.syntax{color:#337AB7;}.array.syntax{color:#337AB7;}></style><div id=\"89071527-f33b-45b9-8903-1c9c57574146\"></div>"
      ]
     },
     "metadata": {},
     "output_type": "display_data"
    },
    {
     "data": {
      "application/javascript": [
       "require([\"https://rawgit.com/caldwell/renderjson/master/renderjson.js\"], function() {document.getElementById('89071527-f33b-45b9-8903-1c9c57574146').appendChild(renderjson.set_show_to_level(2)([{\"_id\": {\"$oid\": \"5c47005395de0d3d366d0a05\"}, \"username\": \"keyvan\", \"lastname\": \"vafaee\"}, {\"_id\": {\"$oid\": \"5c47032d57522eeae2667677\"}, \"username\": \"Mojtaba\", \"lastname\": \"zamani\"}]))});"
      ]
     },
     "metadata": {},
     "output_type": "display_data"
    },
    {
     "data": {
      "text/plain": [
       "{ \"_id\" : ObjectId(\"5c47005395de0d3d366d0a05\"), \"username\" : \"keyvan\", \"lastname\" : \"vafaee\" }\r\n",
       "{ \"_id\" : ObjectId(\"5c47032d57522eeae2667677\"), \"username\" : \"Mojtaba\", \"lastname\" : \"zamani\" }"
      ]
     },
     "execution_count": 3,
     "metadata": {},
     "output_type": "execute_result"
    }
   ],
   "source": [
    "db.keyvan.find()"
   ]
  },
  {
   "cell_type": "markdown",
   "metadata": {},
   "source": [
    " count updated "
   ]
  },
  {
   "cell_type": "code",
   "execution_count": 4,
   "metadata": {},
   "outputs": [
    {
     "data": {
      "text/html": [
       "<style>a.disclosure:link{text-decoration:none;}a.disclosure:visited{text-decoration:none;}.disclosure{color:#337AB7;font-size:150%;}.syntax{color:grey;}.string{color:#9A334F;}.number{color:#5C9632;}.boolean{color:#AA9739;}.key{color:#403075;}.keyword{color:#AA9739;}.object.syntax{color:#337AB7;}.array.syntax{color:#337AB7;}></style><div id=\"0d95f472-3e33-44be-a88d-d974f2f1077a\"></div>"
      ]
     },
     "metadata": {},
     "output_type": "display_data"
    },
    {
     "data": {
      "application/javascript": [
       "require([\"https://rawgit.com/caldwell/renderjson/master/renderjson.js\"], function() {document.getElementById('0d95f472-3e33-44be-a88d-d974f2f1077a').appendChild(renderjson.set_show_to_level(2)(2))});"
      ]
     },
     "metadata": {},
     "output_type": "display_data"
    },
    {
     "data": {
      "text/plain": [
       "2"
      ]
     },
     "execution_count": 4,
     "metadata": {},
     "output_type": "execute_result"
    }
   ],
   "source": [
    "db.keyvan.count()\n"
   ]
  },
  {
   "cell_type": "markdown",
   "metadata": {},
   "source": [
    "we can find user with it's special id (called PK in mongodb )"
   ]
  },
  {
   "cell_type": "code",
   "execution_count": 5,
   "metadata": {},
   "outputs": [
    {
     "data": {
      "text/html": [
       "<style>a.disclosure:link{text-decoration:none;}a.disclosure:visited{text-decoration:none;}.disclosure{color:#337AB7;font-size:150%;}.syntax{color:grey;}.string{color:#9A334F;}.number{color:#5C9632;}.boolean{color:#AA9739;}.key{color:#403075;}.keyword{color:#AA9739;}.object.syntax{color:#337AB7;}.array.syntax{color:#337AB7;}></style><div id=\"bff23055-1d86-4d6a-aa6c-bbfbd1f987f4\"></div>"
      ]
     },
     "metadata": {},
     "output_type": "display_data"
    },
    {
     "data": {
      "application/javascript": [
       "require([\"https://rawgit.com/caldwell/renderjson/master/renderjson.js\"], function() {document.getElementById('bff23055-1d86-4d6a-aa6c-bbfbd1f987f4').appendChild(renderjson.set_show_to_level(2)([{\"_id\": {\"$oid\": \"5c47005395de0d3d366d0a05\"}, \"username\": \"keyvan\", \"lastname\": \"vafaee\"}]))});"
      ]
     },
     "metadata": {},
     "output_type": "display_data"
    },
    {
     "data": {
      "text/plain": [
       "{ \"_id\" : ObjectId(\"5c47005395de0d3d366d0a05\"), \"username\" : \"keyvan\", \"lastname\" : \"vafaee\" }"
      ]
     },
     "execution_count": 5,
     "metadata": {},
     "output_type": "execute_result"
    }
   ],
   "source": [
    "db.keyvan.find({\"_id\":ObjectId(\"5c47005395de0d3d366d0a05\")})\n"
   ]
  },
  {
   "cell_type": "markdown",
   "metadata": {},
   "source": [
    "\n",
    " mongodb doesn't show any output because there is no any user with such \"id\" and \"username\"\n",
    " Note that \\$and performs a logical AND operation on an array of two or more expressions "
   ]
  },
  {
   "cell_type": "code",
   "execution_count": 9,
   "metadata": {},
   "outputs": [],
   "source": [
    "db.keyvan.find({$and: [{\"_id\":ObjectId(\"5c47005395de0d3d366d0a05\")} , {\"username\":\"nothing\"}]})\n"
   ]
  },
  {
   "cell_type": "markdown",
   "metadata": {},
   "source": [
    "We have an output because we have a user with such id and username "
   ]
  },
  {
   "cell_type": "code",
   "execution_count": 10,
   "metadata": {},
   "outputs": [
    {
     "data": {
      "text/html": [
       "<style>a.disclosure:link{text-decoration:none;}a.disclosure:visited{text-decoration:none;}.disclosure{color:#337AB7;font-size:150%;}.syntax{color:grey;}.string{color:#9A334F;}.number{color:#5C9632;}.boolean{color:#AA9739;}.key{color:#403075;}.keyword{color:#AA9739;}.object.syntax{color:#337AB7;}.array.syntax{color:#337AB7;}></style><div id=\"248a24f8-9cc6-4b3d-95c7-55831dd6cdd0\"></div>"
      ]
     },
     "metadata": {},
     "output_type": "display_data"
    },
    {
     "data": {
      "application/javascript": [
       "require([\"https://rawgit.com/caldwell/renderjson/master/renderjson.js\"], function() {document.getElementById('248a24f8-9cc6-4b3d-95c7-55831dd6cdd0').appendChild(renderjson.set_show_to_level(2)([{\"_id\": {\"$oid\": \"5c47005395de0d3d366d0a05\"}, \"username\": \"keyvan\", \"lastname\": \"vafaee\"}]))});"
      ]
     },
     "metadata": {},
     "output_type": "display_data"
    },
    {
     "data": {
      "text/plain": [
       "{ \"_id\" : ObjectId(\"5c47005395de0d3d366d0a05\"), \"username\" : \"keyvan\", \"lastname\" : \"vafaee\" }"
      ]
     },
     "execution_count": 10,
     "metadata": {},
     "output_type": "execute_result"
    }
   ],
   "source": [
    "db.keyvan.find({$and: [{\"_id\":ObjectId(\"5c47005395de0d3d366d0a05\")} , {\"username\":\"keyvan\"}]})\n"
   ]
  },
  {
   "cell_type": "markdown",
   "metadata": {},
   "source": [
    "The or operator performs a logical OR operation on an array of two or more <expressions> and selects the documents that satisfy at least one of the <expressions>"
   ]
  },
  {
   "cell_type": "code",
   "execution_count": 13,
   "metadata": {},
   "outputs": [
    {
     "data": {
      "text/html": [
       "<style>a.disclosure:link{text-decoration:none;}a.disclosure:visited{text-decoration:none;}.disclosure{color:#337AB7;font-size:150%;}.syntax{color:grey;}.string{color:#9A334F;}.number{color:#5C9632;}.boolean{color:#AA9739;}.key{color:#403075;}.keyword{color:#AA9739;}.object.syntax{color:#337AB7;}.array.syntax{color:#337AB7;}></style><div id=\"90d80aa8-bad0-496c-8af3-a98ca595dfb1\"></div>"
      ]
     },
     "metadata": {},
     "output_type": "display_data"
    },
    {
     "data": {
      "application/javascript": [
       "require([\"https://rawgit.com/caldwell/renderjson/master/renderjson.js\"], function() {document.getElementById('90d80aa8-bad0-496c-8af3-a98ca595dfb1').appendChild(renderjson.set_show_to_level(2)([{\"_id\": {\"$oid\": \"5c47005395de0d3d366d0a05\"}, \"username\": \"keyvan\", \"lastname\": \"vafaee\"}, {\"_id\": {\"$oid\": \"5c47032d57522eeae2667677\"}, \"username\": \"Mojtaba\", \"lastname\": \"zamani\"}]))});"
      ]
     },
     "metadata": {},
     "output_type": "display_data"
    },
    {
     "data": {
      "text/plain": [
       "{ \"_id\" : ObjectId(\"5c47005395de0d3d366d0a05\"), \"username\" : \"keyvan\", \"lastname\" : \"vafaee\" }\r\n",
       "{ \"_id\" : ObjectId(\"5c47032d57522eeae2667677\"), \"username\" : \"Mojtaba\", \"lastname\" : \"zamani\" }"
      ]
     },
     "execution_count": 13,
     "metadata": {},
     "output_type": "execute_result"
    }
   ],
   "source": [
    "db.keyvan.find({$or: [{\"_id\":ObjectId(\"5c47005395de0d3d366d0a05\")} , {\"username\":\"Mojtaba\"}]})\n"
   ]
  },
  {
   "cell_type": "code",
   "execution_count": 14,
   "metadata": {},
   "outputs": [
    {
     "data": {
      "text/html": [
       "<style>a.disclosure:link{text-decoration:none;}a.disclosure:visited{text-decoration:none;}.disclosure{color:#337AB7;font-size:150%;}.syntax{color:grey;}.string{color:#9A334F;}.number{color:#5C9632;}.boolean{color:#AA9739;}.key{color:#403075;}.keyword{color:#AA9739;}.object.syntax{color:#337AB7;}.array.syntax{color:#337AB7;}></style><div id=\"d3115886-9450-44df-8ecf-4d4004bb80d0\"></div>"
      ]
     },
     "metadata": {},
     "output_type": "display_data"
    },
    {
     "data": {
      "application/javascript": [
       "require([\"https://rawgit.com/caldwell/renderjson/master/renderjson.js\"], function() {document.getElementById('d3115886-9450-44df-8ecf-4d4004bb80d0').appendChild(renderjson.set_show_to_level(2)([{\"_id\": {\"$oid\": \"5c47005395de0d3d366d0a05\"}, \"username\": \"keyvan\", \"lastname\": \"vafaee\"}]))});"
      ]
     },
     "metadata": {},
     "output_type": "display_data"
    },
    {
     "data": {
      "text/plain": [
       "{ \"_id\" : ObjectId(\"5c47005395de0d3d366d0a05\"), \"username\" : \"keyvan\", \"lastname\" : \"vafaee\" }"
      ]
     },
     "execution_count": 14,
     "metadata": {},
     "output_type": "execute_result"
    }
   ],
   "source": [
    "db.keyvan.find({$or: [ {\"username\":\"nothing\"} , {\"_id\":ObjectId(\"5c47005395de0d3d366d0a05\")} ]})"
   ]
  },
  {
   "cell_type": "markdown",
   "metadata": {},
   "source": [
    "# Update\n",
    "\n",
    "All updates require at least two arguments. The first specifies which documents to\n",
    "update, and the second defines how the selected documents should be modified."
   ]
  },
  {
   "cell_type": "markdown",
   "metadata": {},
   "source": [
    "First type of \"Update\"\n",
    "\n",
    "The first type of update involves passing a document with some kind of operator\n",
    "description as the second argument to the update function\n"
   ]
  },
  {
   "cell_type": "code",
   "execution_count": 15,
   "metadata": {},
   "outputs": [
    {
     "data": {},
     "metadata": {},
     "output_type": "display_data"
    },
    {
     "data": {},
     "metadata": {},
     "output_type": "display_data"
    },
    {
     "data": {
      "text/plain": [
       "WriteResult({ \"nMatched\" : 1, \"nUpserted\" : 0, \"nModified\" : 1 })"
      ]
     },
     "execution_count": 15,
     "metadata": {},
     "output_type": "execute_result"
    }
   ],
   "source": [
    "db.keyvan.update({username:\"keyvan\"} , {$set: {lastname:\"vafaee malek\"}})"
   ]
  },
  {
   "cell_type": "markdown",
   "metadata": {},
   "source": [
    "Now we can see Update\n",
    "\n",
    "\"keyvan\" Lastname changed to \"vafaee malek\""
   ]
  },
  {
   "cell_type": "code",
   "execution_count": 18,
   "metadata": {},
   "outputs": [
    {
     "data": {
      "text/html": [
       "<style>a.disclosure:link{text-decoration:none;}a.disclosure:visited{text-decoration:none;}.disclosure{color:#337AB7;font-size:150%;}.syntax{color:grey;}.string{color:#9A334F;}.number{color:#5C9632;}.boolean{color:#AA9739;}.key{color:#403075;}.keyword{color:#AA9739;}.object.syntax{color:#337AB7;}.array.syntax{color:#337AB7;}></style><div id=\"df882aee-7442-4e9a-ba83-932d189c899d\"></div>"
      ]
     },
     "metadata": {},
     "output_type": "display_data"
    },
    {
     "data": {
      "application/javascript": [
       "require([\"https://rawgit.com/caldwell/renderjson/master/renderjson.js\"], function() {document.getElementById('df882aee-7442-4e9a-ba83-932d189c899d').appendChild(renderjson.set_show_to_level(2)([{\"_id\": {\"$oid\": \"5c47005395de0d3d366d0a05\"}, \"username\": \"keyvan\", \"lastname\": \"vafaee malek\"}]))});"
      ]
     },
     "metadata": {},
     "output_type": "display_data"
    },
    {
     "data": {
      "text/plain": [
       "{ \"_id\" : ObjectId(\"5c47005395de0d3d366d0a05\"), \"username\" : \"keyvan\", \"lastname\" : \"vafaee malek\" }"
      ]
     },
     "execution_count": 18,
     "metadata": {},
     "output_type": "execute_result"
    }
   ],
   "source": [
    "db.keyvan.find({\"username\":\"keyvan\"})"
   ]
  },
  {
   "cell_type": "markdown",
   "metadata": {},
   "source": [
    "# REPLACEMENT UPDATE\n",
    "Another way to update a document is to replace it rather than just set a field\n",
    "\n",
    "Note : this type of update maybe dangerous \n",
    "Document yeild something like \"WriteResult({ \"nMatched\" : 0, \"nUpserted\" : 0, \"nModified\" : 0 })\"\n",
    "if you want to update again\n",
    "\n",
    "Note : the first argument in this update will be removed ! because this is just for matching and will replace with secound argument"
   ]
  },
  {
   "cell_type": "code",
   "execution_count": 26,
   "metadata": {},
   "outputs": [
    {
     "data": {},
     "metadata": {},
     "output_type": "display_data"
    },
    {
     "data": {},
     "metadata": {},
     "output_type": "display_data"
    },
    {
     "data": {
      "text/plain": [
       "WriteResult({ \"nMatched\" : 0, \"nUpserted\" : 0, \"nModified\" : 0 })"
      ]
     },
     "execution_count": 26,
     "metadata": {},
     "output_type": "execute_result"
    }
   ],
   "source": [
    "db.keyvan.update({username:\"Mojtaba\"} , {lastname:\"farhadi\"})"
   ]
  },
  {
   "cell_type": "code",
   "execution_count": 27,
   "metadata": {},
   "outputs": [
    {
     "data": {
      "text/html": [
       "<style>a.disclosure:link{text-decoration:none;}a.disclosure:visited{text-decoration:none;}.disclosure{color:#337AB7;font-size:150%;}.syntax{color:grey;}.string{color:#9A334F;}.number{color:#5C9632;}.boolean{color:#AA9739;}.key{color:#403075;}.keyword{color:#AA9739;}.object.syntax{color:#337AB7;}.array.syntax{color:#337AB7;}></style><div id=\"8516ccfc-f794-4e94-8198-e0a2ea5f4952\"></div>"
      ]
     },
     "metadata": {},
     "output_type": "display_data"
    },
    {
     "data": {
      "application/javascript": [
       "require([\"https://rawgit.com/caldwell/renderjson/master/renderjson.js\"], function() {document.getElementById('8516ccfc-f794-4e94-8198-e0a2ea5f4952').appendChild(renderjson.set_show_to_level(2)([{\"_id\": {\"$oid\": \"5c47005395de0d3d366d0a05\"}, \"username\": \"keyvan\", \"lastname\": \"vafaee malek\"}, {\"_id\": {\"$oid\": \"5c47032d57522eeae2667677\"}, \"lastname\": \"farhadi\"}]))});"
      ]
     },
     "metadata": {},
     "output_type": "display_data"
    },
    {
     "data": {
      "text/plain": [
       "{ \"_id\" : ObjectId(\"5c47005395de0d3d366d0a05\"), \"username\" : \"keyvan\", \"lastname\" : \"vafaee malek\" }\r\n",
       "{ \"_id\" : ObjectId(\"5c47032d57522eeae2667677\"), \"lastname\" : \"farhadi\" }"
      ]
     },
     "execution_count": 27,
     "metadata": {},
     "output_type": "execute_result"
    }
   ],
   "source": [
    "db.keyvan.find()"
   ]
  },
  {
   "cell_type": "markdown",
   "metadata": {},
   "source": [
    "If you later decide that the lastname stored in the profile is no longer needed\n",
    "simply remove it with just \"$unset\""
   ]
  },
  {
   "cell_type": "code",
   "execution_count": 28,
   "metadata": {},
   "outputs": [
    {
     "data": {},
     "metadata": {},
     "output_type": "display_data"
    },
    {
     "data": {},
     "metadata": {},
     "output_type": "display_data"
    },
    {
     "data": {
      "text/plain": [
       "WriteResult({ \"nMatched\" : 1, \"nUpserted\" : 0, \"nModified\" : 1 })"
      ]
     },
     "execution_count": 28,
     "metadata": {},
     "output_type": "execute_result"
    }
   ],
   "source": [
    "db.keyvan.update({username: \"keyvan\"}, {$unset: {lastname: 1}})"
   ]
  },
  {
   "cell_type": "code",
   "execution_count": 29,
   "metadata": {},
   "outputs": [
    {
     "data": {
      "text/html": [
       "<style>a.disclosure:link{text-decoration:none;}a.disclosure:visited{text-decoration:none;}.disclosure{color:#337AB7;font-size:150%;}.syntax{color:grey;}.string{color:#9A334F;}.number{color:#5C9632;}.boolean{color:#AA9739;}.key{color:#403075;}.keyword{color:#AA9739;}.object.syntax{color:#337AB7;}.array.syntax{color:#337AB7;}></style><div id=\"07bd3f50-dcac-465c-8694-3db75b4f79ef\"></div>"
      ]
     },
     "metadata": {},
     "output_type": "display_data"
    },
    {
     "data": {
      "application/javascript": [
       "require([\"https://rawgit.com/caldwell/renderjson/master/renderjson.js\"], function() {document.getElementById('07bd3f50-dcac-465c-8694-3db75b4f79ef').appendChild(renderjson.set_show_to_level(2)([{\"_id\": {\"$oid\": \"5c47005395de0d3d366d0a05\"}, \"username\": \"keyvan\"}, {\"_id\": {\"$oid\": \"5c47032d57522eeae2667677\"}, \"lastname\": \"farhadi\"}]))});"
      ]
     },
     "metadata": {},
     "output_type": "display_data"
    },
    {
     "data": {
      "text/plain": [
       "{ \"_id\" : ObjectId(\"5c47005395de0d3d366d0a05\"), \"username\" : \"keyvan\" }\r\n",
       "{ \"_id\" : ObjectId(\"5c47032d57522eeae2667677\"), \"lastname\" : \"farhadi\" }"
      ]
     },
     "execution_count": 29,
     "metadata": {},
     "output_type": "execute_result"
    }
   ],
   "source": [
    "db.keyvan.find()"
   ]
  },
  {
   "cell_type": "markdown",
   "metadata": {},
   "source": [
    "# UPDATING COMPLEX DATA\n",
    "\n",
    "we add another user info to db"
   ]
  },
  {
   "cell_type": "code",
   "execution_count": 32,
   "metadata": {},
   "outputs": [
    {
     "data": {},
     "metadata": {},
     "output_type": "display_data"
    },
    {
     "data": {},
     "metadata": {},
     "output_type": "display_data"
    },
    {
     "data": {
      "text/plain": [
       "WriteResult({ \"nInserted\" : 1 })"
      ]
     },
     "execution_count": 32,
     "metadata": {},
     "output_type": "execute_result"
    }
   ],
   "source": [
    "db.keyvan.insert({\"username\":\"smith\" , \"age\":21 , \"country\":\"iran\" , \"favorites\":{cities: [\"Chicago\", \"Cheyenne\"],movies: [\"Casablanca\", \"For a Few Dollars More\", \"The Sting\"]}})"
   ]
  },
  {
   "cell_type": "code",
   "execution_count": 33,
   "metadata": {},
   "outputs": [
    {
     "data": {
      "text/html": [
       "<style>a.disclosure:link{text-decoration:none;}a.disclosure:visited{text-decoration:none;}.disclosure{color:#337AB7;font-size:150%;}.syntax{color:grey;}.string{color:#9A334F;}.number{color:#5C9632;}.boolean{color:#AA9739;}.key{color:#403075;}.keyword{color:#AA9739;}.object.syntax{color:#337AB7;}.array.syntax{color:#337AB7;}></style><div id=\"2c687efb-ffa3-4d0b-b8cf-7c1a3a7acce1\"></div>"
      ]
     },
     "metadata": {},
     "output_type": "display_data"
    },
    {
     "data": {
      "application/javascript": [
       "require([\"https://rawgit.com/caldwell/renderjson/master/renderjson.js\"], function() {document.getElementById('2c687efb-ffa3-4d0b-b8cf-7c1a3a7acce1').appendChild(renderjson.set_show_to_level(2)([{\"_id\": {\"$oid\": \"5c47005395de0d3d366d0a05\"}, \"username\": \"keyvan\"}, {\"_id\": {\"$oid\": \"5c47032d57522eeae2667677\"}, \"lastname\": \"farhadi\"}, {\"_id\": {\"$oid\": \"5c470feb57522eeae2667678\"}, \"username\": \"keyvan\", \"age\": 21, \"country\": \"iran\", \"favorites\": {\"cities\": [\"Chicago\", \"Cheyenne\"], \"movies\": [\"Casablanca\", \"For a Few Dollars More\", \"The Sting\"]}}, {\"_id\": {\"$oid\": \"5c47100657522eeae2667679\"}, \"username\": \"smith\", \"age\": 21, \"country\": \"iran\", \"favorites\": {\"cities\": [\"Chicago\", \"Cheyenne\"], \"movies\": [\"Casablanca\", \"For a Few Dollars More\", \"The Sting\"]}}]))});"
      ]
     },
     "metadata": {},
     "output_type": "display_data"
    },
    {
     "data": {
      "text/plain": [
       "{ \"_id\" : ObjectId(\"5c47005395de0d3d366d0a05\"), \"username\" : \"keyvan\" }\r\n",
       "{ \"_id\" : ObjectId(\"5c47032d57522eeae2667677\"), \"lastname\" : \"farhadi\" }\r\n",
       "{ \"_id\" : ObjectId(\"5c470feb57522eeae2667678\"), \"username\" : \"keyvan\", \"age\" : 21, \"country\" : \"iran\", \"favorites\" : { \"cities\" : [ \"Chicago\", \"Cheyenne\" ], \"movies\" : [ \"Casablanca\", \"For a Few Dollars More\", \"The Sting\" ] } }\r\n",
       "{ \"_id\" : ObjectId(\"5c47100657522eeae2667679\"), \"username\" : \"smith\", \"age\" : 21, \"country\" : \"iran\", \"favorites\" : { \"cities\" : [ \"Chicago\", \"Cheyenne\" ], \"movies\" : [ \"Casablanca\", \"For a Few Dollars More\", \"The Sting\" ] } }"
      ]
     },
     "execution_count": 33,
     "metadata": {},
     "output_type": "execute_result"
    }
   ],
   "source": [
    "db.keyvan.find()"
   ]
  },
  {
   "cell_type": "code",
   "execution_count": 37,
   "metadata": {},
   "outputs": [
    {
     "data": {},
     "metadata": {},
     "output_type": "display_data"
    },
    {
     "data": {},
     "metadata": {},
     "output_type": "display_data"
    },
    {
     "data": {
      "text/plain": [
       "WriteResult({ \"nMatched\" : 1, \"nUpserted\" : 0, \"nModified\" : 1 })"
      ]
     },
     "execution_count": 37,
     "metadata": {},
     "output_type": "execute_result"
    }
   ],
   "source": [
    "db.keyvan.update({username:\"smith\"},{$set:{favorites:{cities: [\"tehran\", \"iran\"],movies: [\"Casablanca\", \"mongo is good database\", \"**\"]}}})"
   ]
  },
  {
   "cell_type": "code",
   "execution_count": 2,
   "metadata": {},
   "outputs": [],
   "source": [
    "db.keyvan.find({username:\"smith\"})"
   ]
  },
  {
   "cell_type": "markdown",
   "metadata": {},
   "source": [
    "ADVANCED UPDATES\n",
    "\n",
    "\n",
    "If we want to add a element to list we can use \"$push\" and \"$addToset\" , although you can use \"$set\" that require you to\n",
    "rewrite and send the entire array of movies\n",
    "\n",
    "Note : both $push and $addToSet add\n",
    "an item to an array, but the second does so uniquely, preventing a duplicate addition"
   ]
  },
  {
   "cell_type": "code",
   "execution_count": 39,
   "metadata": {},
   "outputs": [
    {
     "data": {},
     "metadata": {},
     "output_type": "display_data"
    },
    {
     "data": {},
     "metadata": {},
     "output_type": "display_data"
    },
    {
     "data": {
      "text/plain": [
       "WriteResult({ \"nMatched\" : 2, \"nUpserted\" : 0, \"nModified\" : 2 })"
      ]
     },
     "execution_count": 39,
     "metadata": {},
     "output_type": "execute_result"
    }
   ],
   "source": [
    "db.keyvan.update({\"favorites.movies\": \"Casablanca\"}, {$addToSet: {\"favorites.movies\": \"The Maltese Falcon\"} },false, true)"
   ]
  },
  {
   "cell_type": "code",
   "execution_count": 3,
   "metadata": {},
   "outputs": [
    {
     "data": {
      "text/html": [
       "<style>a.disclosure:link{text-decoration:none;}a.disclosure:visited{text-decoration:none;}.disclosure{color:#337AB7;font-size:150%;}.syntax{color:grey;}.string{color:#9A334F;}.number{color:#5C9632;}.boolean{color:#AA9739;}.key{color:#403075;}.keyword{color:#AA9739;}.object.syntax{color:#337AB7;}.array.syntax{color:#337AB7;}></style><div id=\"2942b221-53a9-477f-abc9-a92c813ea793\"></div>"
      ]
     },
     "metadata": {},
     "output_type": "display_data"
    },
    {
     "data": {
      "application/javascript": [
       "require([\"https://rawgit.com/caldwell/renderjson/master/renderjson.js\"], function() {document.getElementById('2942b221-53a9-477f-abc9-a92c813ea793').appendChild(renderjson.set_show_to_level(2)([{\"_id\": {\"$oid\": \"5c47100657522eeae2667679\"}, \"username\": \"smith\", \"age\": 21, \"country\": \"iran\", \"favorites\": {\"cities\": [\"tehran\", \"iran\"], \"movies\": [\"Casablanca\", \"mongo is good database\", \"**\", \"The Maltese Falcon\"]}}]))});"
      ]
     },
     "metadata": {},
     "output_type": "display_data"
    },
    {
     "data": {
      "text/plain": [
       "{ \"_id\" : ObjectId(\"5c47100657522eeae2667679\"), \"username\" : \"smith\", \"age\" : 21, \"country\" : \"iran\", \"favorites\" : { \"cities\" : [ \"tehran\", \"iran\" ], \"movies\" : [ \"Casablanca\", \"mongo is good database\", \"**\", \"The Maltese Falcon\" ] } }"
      ]
     },
     "execution_count": 3,
     "metadata": {},
     "output_type": "execute_result"
    }
   ],
   "source": [
    "db.keyvan.find()"
   ]
  },
  {
   "cell_type": "markdown",
   "metadata": {},
   "source": [
    "# Deleting data\n",
    "\n",
    "Note : If given no parameters, a remove operation will clear a collection of all its docu-\n",
    "ments.\n",
    "\n"
   ]
  },
  {
   "cell_type": "code",
   "execution_count": null,
   "metadata": {},
   "outputs": [],
   "source": [
    "db.keyvan.remove()#i did n't run it :)"
   ]
  },
  {
   "cell_type": "markdown",
   "metadata": {},
   "source": [
    "we often need to remove only a certain subset of a collection’s documents"
   ]
  },
  {
   "cell_type": "code",
   "execution_count": 41,
   "metadata": {},
   "outputs": [
    {
     "data": {},
     "metadata": {},
     "output_type": "display_data"
    },
    {
     "data": {},
     "metadata": {},
     "output_type": "display_data"
    },
    {
     "data": {
      "text/plain": [
       "WriteResult({ \"nRemoved\" : 1 })"
      ]
     },
     "execution_count": 41,
     "metadata": {},
     "output_type": "execute_result"
    }
   ],
   "source": [
    "db.keyvan.remove({\"lastname\":\"farhadi\"})"
   ]
  },
  {
   "cell_type": "code",
   "execution_count": 42,
   "metadata": {},
   "outputs": [
    {
     "data": {
      "text/html": [
       "<style>a.disclosure:link{text-decoration:none;}a.disclosure:visited{text-decoration:none;}.disclosure{color:#337AB7;font-size:150%;}.syntax{color:grey;}.string{color:#9A334F;}.number{color:#5C9632;}.boolean{color:#AA9739;}.key{color:#403075;}.keyword{color:#AA9739;}.object.syntax{color:#337AB7;}.array.syntax{color:#337AB7;}></style><div id=\"656f553e-a184-4de3-b0d9-653522fecf56\"></div>"
      ]
     },
     "metadata": {},
     "output_type": "display_data"
    },
    {
     "data": {
      "application/javascript": [
       "require([\"https://rawgit.com/caldwell/renderjson/master/renderjson.js\"], function() {document.getElementById('656f553e-a184-4de3-b0d9-653522fecf56').appendChild(renderjson.set_show_to_level(2)([{\"_id\": {\"$oid\": \"5c47005395de0d3d366d0a05\"}, \"username\": \"keyvan\"}, {\"_id\": {\"$oid\": \"5c470feb57522eeae2667678\"}, \"username\": \"keyvan\", \"age\": 21, \"country\": \"iran\", \"favorites\": {\"cities\": [\"Chicago\", \"Cheyenne\"], \"movies\": [\"Casablanca\", \"For a Few Dollars More\", \"The Sting\", \"The Maltese Falcon\"]}}, {\"_id\": {\"$oid\": \"5c47100657522eeae2667679\"}, \"username\": \"smith\", \"age\": 21, \"country\": \"iran\", \"favorites\": {\"cities\": [\"tehran\", \"iran\"], \"movies\": [\"Casablanca\", \"mongo is good database\", \"**\", \"The Maltese Falcon\"]}}]))});"
      ]
     },
     "metadata": {},
     "output_type": "display_data"
    },
    {
     "data": {
      "text/plain": [
       "{ \"_id\" : ObjectId(\"5c47005395de0d3d366d0a05\"), \"username\" : \"keyvan\" }\r\n",
       "{ \"_id\" : ObjectId(\"5c470feb57522eeae2667678\"), \"username\" : \"keyvan\", \"age\" : 21, \"country\" : \"iran\", \"favorites\" : { \"cities\" : [ \"Chicago\", \"Cheyenne\" ], \"movies\" : [ \"Casablanca\", \"For a Few Dollars More\", \"The Sting\", \"The Maltese Falcon\" ] } }\r\n",
       "{ \"_id\" : ObjectId(\"5c47100657522eeae2667679\"), \"username\" : \"smith\", \"age\" : 21, \"country\" : \"iran\", \"favorites\" : { \"cities\" : [ \"tehran\", \"iran\" ], \"movies\" : [ \"Casablanca\", \"mongo is good database\", \"**\", \"The Maltese Falcon\" ] } }"
      ]
     },
     "execution_count": 42,
     "metadata": {},
     "output_type": "execute_result"
    }
   ],
   "source": [
    "db.keyvan.find()"
   ]
  },
  {
   "cell_type": "markdown",
   "metadata": {},
   "source": [
    "Note that the remove() operation $doesn’t  $actually  $delete  $the  $collection \n",
    "If your intent is to delete the collection along with all of its indexes, use the drop()\n",
    "method:"
   ]
  },
  {
   "cell_type": "code",
   "execution_count": null,
   "metadata": {},
   "outputs": [],
   "source": [
    "db.keyvan.drop() # i didn't run that"
   ]
  },
  {
   "cell_type": "markdown",
   "metadata": {},
   "source": [
    "# Creating a large collection"
   ]
  },
  {
   "cell_type": "code",
   "execution_count": 1,
   "metadata": {},
   "outputs": [
    {
     "data": {},
     "metadata": {},
     "output_type": "display_data"
    },
    {
     "data": {},
     "metadata": {},
     "output_type": "display_data"
    },
    {
     "data": {
      "text/plain": [
       "api_bots    0.000GB\r\n",
       "banner      0.000GB\r\n",
       "customer    0.000GB\r\n",
       "imongo      0.000GB\r\n",
       "local       0.000GB\r\n",
       "mongo       0.000GB\r\n",
       "numbers     0.000GB\r\n",
       "terminator  0.000GB\r\n",
       "test        0.004GB\r\n",
       "tools       0.000GB"
      ]
     },
     "execution_count": 1,
     "metadata": {},
     "output_type": "execute_result"
    }
   ],
   "source": [
    "show dbs"
   ]
  },
  {
   "cell_type": "code",
   "execution_count": 2,
   "metadata": {},
   "outputs": [
    {
     "data": {},
     "metadata": {},
     "output_type": "display_data"
    },
    {
     "data": {},
     "metadata": {},
     "output_type": "display_data"
    },
    {
     "data": {
      "text/plain": [
       "switched to db numbers"
      ]
     },
     "execution_count": 2,
     "metadata": {},
     "output_type": "execute_result"
    }
   ],
   "source": [
    "use numbers"
   ]
  },
  {
   "cell_type": "code",
   "execution_count": 3,
   "metadata": {},
   "outputs": [
    {
     "data": {},
     "metadata": {},
     "output_type": "display_data"
    },
    {
     "data": {},
     "metadata": {},
     "output_type": "display_data"
    },
    {
     "data": {
      "text/plain": [
       "numbers"
      ]
     },
     "execution_count": 3,
     "metadata": {},
     "output_type": "execute_result"
    }
   ],
   "source": [
    "db"
   ]
  },
  {
   "cell_type": "code",
   "execution_count": 13,
   "metadata": {},
   "outputs": [
    {
     "data": {},
     "metadata": {},
     "output_type": "display_data"
    },
    {
     "data": {},
     "metadata": {},
     "output_type": "display_data"
    },
    {
     "data": {
      "text/plain": [
       "WriteResult({ \"nInserted\" : 1 })"
      ]
     },
     "execution_count": 13,
     "metadata": {},
     "output_type": "execute_result"
    }
   ],
   "source": [
    "for (i=0 ; i <2000; i++)\n",
    "{\n",
    "db.save.insert({num : i});\n",
    "}"
   ]
  },
  {
   "cell_type": "code",
   "execution_count": 14,
   "metadata": {},
   "outputs": [
    {
     "data": {
      "text/html": [
       "<style>a.disclosure:link{text-decoration:none;}a.disclosure:visited{text-decoration:none;}.disclosure{color:#337AB7;font-size:150%;}.syntax{color:grey;}.string{color:#9A334F;}.number{color:#5C9632;}.boolean{color:#AA9739;}.key{color:#403075;}.keyword{color:#AA9739;}.object.syntax{color:#337AB7;}.array.syntax{color:#337AB7;}></style><div id=\"e02db88a-0816-467e-aa7e-f3a96efd2d58\"></div>"
      ]
     },
     "metadata": {},
     "output_type": "display_data"
    },
    {
     "data": {
      "application/javascript": [
       "require([\"https://rawgit.com/caldwell/renderjson/master/renderjson.js\"], function() {document.getElementById('e02db88a-0816-467e-aa7e-f3a96efd2d58').appendChild(renderjson.set_show_to_level(2)(2001))});"
      ]
     },
     "metadata": {},
     "output_type": "display_data"
    },
    {
     "data": {
      "text/plain": [
       "2001"
      ]
     },
     "execution_count": 14,
     "metadata": {},
     "output_type": "execute_result"
    }
   ],
   "source": [
    "db.save.count()"
   ]
  },
  {
   "cell_type": "code",
   "execution_count": 15,
   "metadata": {},
   "outputs": [
    {
     "data": {
      "text/html": [
       "<style>a.disclosure:link{text-decoration:none;}a.disclosure:visited{text-decoration:none;}.disclosure{color:#337AB7;font-size:150%;}.syntax{color:grey;}.string{color:#9A334F;}.number{color:#5C9632;}.boolean{color:#AA9739;}.key{color:#403075;}.keyword{color:#AA9739;}.object.syntax{color:#337AB7;}.array.syntax{color:#337AB7;}></style><div id=\"4544077f-c90f-448d-975d-c0785f8772eb\"></div>"
      ]
     },
     "metadata": {},
     "output_type": "display_data"
    },
    {
     "data": {
      "application/javascript": [
       "require([\"https://rawgit.com/caldwell/renderjson/master/renderjson.js\"], function() {document.getElementById('4544077f-c90f-448d-975d-c0785f8772eb').appendChild(renderjson.set_show_to_level(2)([{\"_id\": {\"$oid\": \"5c47180347b5601fbfdbdda2\"}, \"ok\": \"1\"}, {\"_id\": {\"$oid\": \"5c471c638ffa1a34085c2c05\"}, \"num\": 0}, {\"_id\": {\"$oid\": \"5c471c638ffa1a34085c2c06\"}, \"num\": 1}, {\"_id\": {\"$oid\": \"5c471c638ffa1a34085c2c07\"}, \"num\": 2}, {\"_id\": {\"$oid\": \"5c471c638ffa1a34085c2c08\"}, \"num\": 3}, {\"_id\": {\"$oid\": \"5c471c638ffa1a34085c2c09\"}, \"num\": 4}, {\"_id\": {\"$oid\": \"5c471c638ffa1a34085c2c0a\"}, \"num\": 5}, {\"_id\": {\"$oid\": \"5c471c638ffa1a34085c2c0b\"}, \"num\": 6}, {\"_id\": {\"$oid\": \"5c471c638ffa1a34085c2c0c\"}, \"num\": 7}, {\"_id\": {\"$oid\": \"5c471c638ffa1a34085c2c0d\"}, \"num\": 8}, {\"_id\": {\"$oid\": \"5c471c638ffa1a34085c2c0e\"}, \"num\": 9}, {\"_id\": {\"$oid\": \"5c471c638ffa1a34085c2c0f\"}, \"num\": 10}, {\"_id\": {\"$oid\": \"5c471c638ffa1a34085c2c10\"}, \"num\": 11}, {\"_id\": {\"$oid\": \"5c471c638ffa1a34085c2c11\"}, \"num\": 12}, {\"_id\": {\"$oid\": \"5c471c638ffa1a34085c2c12\"}, \"num\": 13}, {\"_id\": {\"$oid\": \"5c471c638ffa1a34085c2c13\"}, \"num\": 14}, {\"_id\": {\"$oid\": \"5c471c638ffa1a34085c2c14\"}, \"num\": 15}, {\"_id\": {\"$oid\": \"5c471c638ffa1a34085c2c15\"}, \"num\": 16}, {\"_id\": {\"$oid\": \"5c471c638ffa1a34085c2c16\"}, \"num\": 17}, {\"_id\": {\"$oid\": \"5c471c638ffa1a34085c2c17\"}, \"num\": 18}]))});"
      ]
     },
     "metadata": {},
     "output_type": "display_data"
    },
    {
     "data": {
      "text/plain": [
       "{ \"_id\" : ObjectId(\"5c47180347b5601fbfdbdda2\"), \"ok\" : \"1\" }\r\n",
       "{ \"_id\" : ObjectId(\"5c471c638ffa1a34085c2c05\"), \"num\" : 0 }\r\n",
       "{ \"_id\" : ObjectId(\"5c471c638ffa1a34085c2c06\"), \"num\" : 1 }\r\n",
       "{ \"_id\" : ObjectId(\"5c471c638ffa1a34085c2c07\"), \"num\" : 2 }\r\n",
       "{ \"_id\" : ObjectId(\"5c471c638ffa1a34085c2c08\"), \"num\" : 3 }\r\n",
       "{ \"_id\" : ObjectId(\"5c471c638ffa1a34085c2c09\"), \"num\" : 4 }\r\n",
       "{ \"_id\" : ObjectId(\"5c471c638ffa1a34085c2c0a\"), \"num\" : 5 }\r\n",
       "{ \"_id\" : ObjectId(\"5c471c638ffa1a34085c2c0b\"), \"num\" : 6 }\r\n",
       "{ \"_id\" : ObjectId(\"5c471c638ffa1a34085c2c0c\"), \"num\" : 7 }\r\n",
       "{ \"_id\" : ObjectId(\"5c471c638ffa1a34085c2c0d\"), \"num\" : 8 }\r\n",
       "{ \"_id\" : ObjectId(\"5c471c638ffa1a34085c2c0e\"), \"num\" : 9 }\r\n",
       "{ \"_id\" : ObjectId(\"5c471c638ffa1a34085c2c0f\"), \"num\" : 10 }\r\n",
       "{ \"_id\" : ObjectId(\"5c471c638ffa1a34085c2c10\"), \"num\" : 11 }\r\n",
       "{ \"_id\" : ObjectId(\"5c471c638ffa1a34085c2c11\"), \"num\" : 12 }\r\n",
       "{ \"_id\" : ObjectId(\"5c471c638ffa1a34085c2c12\"), \"num\" : 13 }\r\n",
       "{ \"_id\" : ObjectId(\"5c471c638ffa1a34085c2c13\"), \"num\" : 14 }\r\n",
       "{ \"_id\" : ObjectId(\"5c471c638ffa1a34085c2c14\"), \"num\" : 15 }\r\n",
       "{ \"_id\" : ObjectId(\"5c471c638ffa1a34085c2c15\"), \"num\" : 16 }\r\n",
       "{ \"_id\" : ObjectId(\"5c471c638ffa1a34085c2c16\"), \"num\" : 17 }\r\n",
       "{ \"_id\" : ObjectId(\"5c471c638ffa1a34085c2c17\"), \"num\" : 18 }\r\n",
       "Type \"it\" for more"
      ]
     },
     "execution_count": 15,
     "metadata": {},
     "output_type": "execute_result"
    }
   ],
   "source": [
    "db.save.find()"
   ]
  },
  {
   "cell_type": "code",
   "execution_count": 16,
   "metadata": {},
   "outputs": [
    {
     "data": {
      "text/html": [
       "<style>a.disclosure:link{text-decoration:none;}a.disclosure:visited{text-decoration:none;}.disclosure{color:#337AB7;font-size:150%;}.syntax{color:grey;}.string{color:#9A334F;}.number{color:#5C9632;}.boolean{color:#AA9739;}.key{color:#403075;}.keyword{color:#AA9739;}.object.syntax{color:#337AB7;}.array.syntax{color:#337AB7;}></style><div id=\"0bf908e3-89ad-4359-818e-c8fb4c9c25ae\"></div>"
      ]
     },
     "metadata": {},
     "output_type": "display_data"
    },
    {
     "data": {
      "application/javascript": [
       "require([\"https://rawgit.com/caldwell/renderjson/master/renderjson.js\"], function() {document.getElementById('0bf908e3-89ad-4359-818e-c8fb4c9c25ae').appendChild(renderjson.set_show_to_level(2)([{\"_id\": {\"$oid\": \"5c471c648ffa1a34085c2df9\"}, \"num\": 500}]))});"
      ]
     },
     "metadata": {},
     "output_type": "display_data"
    },
    {
     "data": {
      "text/plain": [
       "{ \"_id\" : ObjectId(\"5c471c648ffa1a34085c2df9\"), \"num\" : 500 }"
      ]
     },
     "execution_count": 16,
     "metadata": {},
     "output_type": "execute_result"
    }
   ],
   "source": [
    "db.save.find({num: 500})"
   ]
  },
  {
   "cell_type": "markdown",
   "metadata": {},
   "source": [
    "# RANGE QUERIES"
   ]
  },
  {
   "cell_type": "markdown",
   "metadata": {},
   "source": [
    "we want to find all num greater than 500\n",
    "should use $gt"
   ]
  },
  {
   "cell_type": "code",
   "execution_count": 18,
   "metadata": {},
   "outputs": [
    {
     "data": {
      "text/html": [
       "<style>a.disclosure:link{text-decoration:none;}a.disclosure:visited{text-decoration:none;}.disclosure{color:#337AB7;font-size:150%;}.syntax{color:grey;}.string{color:#9A334F;}.number{color:#5C9632;}.boolean{color:#AA9739;}.key{color:#403075;}.keyword{color:#AA9739;}.object.syntax{color:#337AB7;}.array.syntax{color:#337AB7;}></style><div id=\"d7039b56-e37d-45a4-9793-98aff088cb96\"></div>"
      ]
     },
     "metadata": {},
     "output_type": "display_data"
    },
    {
     "data": {
      "application/javascript": [
       "require([\"https://rawgit.com/caldwell/renderjson/master/renderjson.js\"], function() {document.getElementById('d7039b56-e37d-45a4-9793-98aff088cb96').appendChild(renderjson.set_show_to_level(2)([{\"_id\": {\"$oid\": \"5c471c658ffa1a34085c33d1\"}, \"num\": 1996}, {\"_id\": {\"$oid\": \"5c471c658ffa1a34085c33d2\"}, \"num\": 1997}, {\"_id\": {\"$oid\": \"5c471c658ffa1a34085c33d3\"}, \"num\": 1998}, {\"_id\": {\"$oid\": \"5c471c658ffa1a34085c33d4\"}, \"num\": 1999}]))});"
      ]
     },
     "metadata": {},
     "output_type": "display_data"
    },
    {
     "data": {
      "text/plain": [
       "{ \"_id\" : ObjectId(\"5c471c658ffa1a34085c33d1\"), \"num\" : 1996 }\r\n",
       "{ \"_id\" : ObjectId(\"5c471c658ffa1a34085c33d2\"), \"num\" : 1997 }\r\n",
       "{ \"_id\" : ObjectId(\"5c471c658ffa1a34085c33d3\"), \"num\" : 1998 }\r\n",
       "{ \"_id\" : ObjectId(\"5c471c658ffa1a34085c33d4\"), \"num\" : 1999 }"
      ]
     },
     "execution_count": 18,
     "metadata": {},
     "output_type": "execute_result"
    }
   ],
   "source": [
    "db.save.find( {num: {\"$gt\": 1995 }} )"
   ]
  },
  {
   "cell_type": "code",
   "execution_count": 19,
   "metadata": {},
   "outputs": [
    {
     "data": {
      "text/html": [
       "<style>a.disclosure:link{text-decoration:none;}a.disclosure:visited{text-decoration:none;}.disclosure{color:#337AB7;font-size:150%;}.syntax{color:grey;}.string{color:#9A334F;}.number{color:#5C9632;}.boolean{color:#AA9739;}.key{color:#403075;}.keyword{color:#AA9739;}.object.syntax{color:#337AB7;}.array.syntax{color:#337AB7;}></style><div id=\"c6bfa309-b94e-4aa6-ab85-99d1e797cfba\"></div>"
      ]
     },
     "metadata": {},
     "output_type": "display_data"
    },
    {
     "data": {
      "application/javascript": [
       "require([\"https://rawgit.com/caldwell/renderjson/master/renderjson.js\"], function() {document.getElementById('c6bfa309-b94e-4aa6-ab85-99d1e797cfba').appendChild(renderjson.set_show_to_level(2)({\"queryPlanner\": {\"plannerVersion\": 1, \"namespace\": \"numbers.save\", \"indexFilterSet\": false, \"parsedQuery\": {\"num\": {\"$gt\": 1995}}, \"winningPlan\": {\"stage\": \"COLLSCAN\", \"filter\": {\"num\": {\"$gt\": 1995}}, \"direction\": \"forward\"}, \"rejectedPlans\": []}, \"executionStats\": {\"executionSuccess\": true, \"nReturned\": 4, \"executionTimeMillis\": 8, \"totalKeysExamined\": 0, \"totalDocsExamined\": 2001, \"executionStages\": {\"stage\": \"COLLSCAN\", \"filter\": {\"num\": {\"$gt\": 1995}}, \"nReturned\": 4, \"executionTimeMillisEstimate\": 0, \"works\": 2003, \"advanced\": 4, \"needTime\": 1998, \"needYield\": 0, \"saveState\": 15, \"restoreState\": 15, \"isEOF\": 1, \"invalidates\": 0, \"direction\": \"forward\", \"docsExamined\": 2001}}, \"serverInfo\": {\"host\": \"parrot\", \"port\": 27017, \"version\": \"3.4.15\", \"gitVersion\": \"52e5b5fbaa3a2a5b1a217f5e647b5061817475f9\"}, \"ok\": 1}))});"
      ]
     },
     "metadata": {},
     "output_type": "display_data"
    },
    {
     "data": {
      "text/plain": [
       "{\r\n",
       "\t\"queryPlanner\" : {\r\n",
       "\t\t\"plannerVersion\" : 1,\r\n",
       "\t\t\"namespace\" : \"numbers.save\",\r\n",
       "\t\t\"indexFilterSet\" : false,\r\n",
       "\t\t\"parsedQuery\" : {\r\n",
       "\t\t\t\"num\" : {\r\n",
       "\t\t\t\t\"$gt\" : 1995\r\n",
       "\t\t\t}\r\n",
       "\t\t},\r\n",
       "\t\t\"winningPlan\" : {\r\n",
       "\t\t\t\"stage\" : \"COLLSCAN\",\r\n",
       "\t\t\t\"filter\" : {\r\n",
       "\t\t\t\t\"num\" : {\r\n",
       "\t\t\t\t\t\"$gt\" : 1995\r\n",
       "\t\t\t\t}\r\n",
       "\t\t\t},\r\n",
       "\t\t\t\"direction\" : \"forward\"\r\n",
       "\t\t},\r\n",
       "\t\t\"rejectedPlans\" : [ ]\r\n",
       "\t},\r\n",
       "\t\"executionStats\" : {\r\n",
       "\t\t\"executionSuccess\" : true,\r\n",
       "\t\t\"nReturned\" : 4,\r\n",
       "\t\t\"executionTimeMillis\" : 8,\r\n",
       "\t\t\"totalKeysExamined\" : 0,\r\n",
       "\t\t\"totalDocsExamined\" : 2001,\r\n",
       "\t\t\"executionStages\" : {\r\n",
       "\t\t\t\"stage\" : \"COLLSCAN\",\r\n",
       "\t\t\t\"filter\" : {\r\n",
       "\t\t\t\t\"num\" : {\r\n",
       "\t\t\t\t\t\"$gt\" : 1995\r\n",
       "\t\t\t\t}\r\n",
       "\t\t\t},\r\n",
       "\t\t\t\"nReturned\" : 4,\r\n",
       "\t\t\t\"executionTimeMillisEstimate\" : 0,\r\n",
       "\t\t\t\"works\" : 2003,\r\n",
       "\t\t\t\"advanced\" : 4,\r\n",
       "\t\t\t\"needTime\" : 1998,\r\n",
       "\t\t\t\"needYield\" : 0,\r\n",
       "\t\t\t\"saveState\" : 15,\r\n",
       "\t\t\t\"restoreState\" : 15,\r\n",
       "\t\t\t\"isEOF\" : 1,\r\n",
       "\t\t\t\"invalidates\" : 0,\r\n",
       "\t\t\t\"direction\" : \"forward\",\r\n",
       "\t\t\t\"docsExamined\" : 2001\r\n",
       "\t\t}\r\n",
       "\t},\r\n",
       "\t\"serverInfo\" : {\r\n",
       "\t\t\"host\" : \"parrot\",\r\n",
       "\t\t\"port\" : 27017,\r\n",
       "\t\t\"version\" : \"3.4.15\",\r\n",
       "\t\t\"gitVersion\" : \"52e5b5fbaa3a2a5b1a217f5e647b5061817475f9\"\r\n",
       "\t},\r\n",
       "\t\"ok\" : 1\r\n",
       "}"
      ]
     },
     "execution_count": 19,
     "metadata": {},
     "output_type": "execute_result"
    }
   ],
   "source": [
    "db.save.find({num: {\"$gt\": 1995}}).explain(\"executionStats\")"
   ]
  },
  {
   "cell_type": "markdown",
   "metadata": {},
   "source": [
    "EXPLAIN describes query paths and allows developers to diagnose slow opera-\n",
    "tions by determining which indexes a query has used."
   ]
  },
  {
   "cell_type": "code",
   "execution_count": 20,
   "metadata": {},
   "outputs": [
    {
     "data": {
      "text/html": [
       "<style>a.disclosure:link{text-decoration:none;}a.disclosure:visited{text-decoration:none;}.disclosure{color:#337AB7;font-size:150%;}.syntax{color:grey;}.string{color:#9A334F;}.number{color:#5C9632;}.boolean{color:#AA9739;}.key{color:#403075;}.keyword{color:#AA9739;}.object.syntax{color:#337AB7;}.array.syntax{color:#337AB7;}></style><div id=\"48407058-b02f-40d4-82bc-572ff66f3259\"></div>"
      ]
     },
     "metadata": {},
     "output_type": "display_data"
    },
    {
     "data": {
      "application/javascript": [
       "require([\"https://rawgit.com/caldwell/renderjson/master/renderjson.js\"], function() {document.getElementById('48407058-b02f-40d4-82bc-572ff66f3259').appendChild(renderjson.set_show_to_level(2)([{\"v\": 1, \"key\": {\"_id\": 1}, \"name\": \"_id_\", \"ns\": \"numbers.save\"}]))});"
      ]
     },
     "metadata": {},
     "output_type": "display_data"
    },
    {
     "data": {
      "text/plain": [
       "[\r\n",
       "\t{\r\n",
       "\t\t\"v\" : 1,\r\n",
       "\t\t\"key\" : {\r\n",
       "\t\t\t\"_id\" : 1\r\n",
       "\t\t},\r\n",
       "\t\t\"name\" : \"_id_\",\r\n",
       "\t\t\"ns\" : \"numbers.save\"\r\n",
       "\t}\r\n",
       "]"
      ]
     },
     "execution_count": 20,
     "metadata": {},
     "output_type": "execute_result"
    }
   ],
   "source": [
    "db.save.getIndexes()"
   ]
  },
  {
   "cell_type": "code",
   "execution_count": 21,
   "metadata": {},
   "outputs": [
    {
     "data": {
      "text/html": [
       "<style>a.disclosure:link{text-decoration:none;}a.disclosure:visited{text-decoration:none;}.disclosure{color:#337AB7;font-size:150%;}.syntax{color:grey;}.string{color:#9A334F;}.number{color:#5C9632;}.boolean{color:#AA9739;}.key{color:#403075;}.keyword{color:#AA9739;}.object.syntax{color:#337AB7;}.array.syntax{color:#337AB7;}></style><div id=\"600d233e-1fb6-4273-bea4-e79e09084a1c\"></div>"
      ]
     },
     "metadata": {},
     "output_type": "display_data"
    },
    {
     "data": {
      "application/javascript": [
       "require([\"https://rawgit.com/caldwell/renderjson/master/renderjson.js\"], function() {document.getElementById('600d233e-1fb6-4273-bea4-e79e09084a1c').appendChild(renderjson.set_show_to_level(2)({\"db\": \"numbers\", \"collections\": 1, \"views\": 0, \"objects\": 2001, \"avgObjSize\": 34.99850074962519, \"dataSize\": 70032, \"storageSize\": 61440, \"numExtents\": 0, \"indexes\": 1, \"indexSize\": 45056, \"ok\": 1}))});"
      ]
     },
     "metadata": {},
     "output_type": "display_data"
    },
    {
     "data": {
      "text/plain": [
       "{\r\n",
       "\t\"db\" : \"numbers\",\r\n",
       "\t\"collections\" : 1,\r\n",
       "\t\"views\" : 0,\r\n",
       "\t\"objects\" : 2001,\r\n",
       "\t\"avgObjSize\" : 34.99850074962519,\r\n",
       "\t\"dataSize\" : 70032,\r\n",
       "\t\"storageSize\" : 61440,\r\n",
       "\t\"numExtents\" : 0,\r\n",
       "\t\"indexes\" : 1,\r\n",
       "\t\"indexSize\" : 45056,\r\n",
       "\t\"ok\" : 1\r\n",
       "}"
      ]
     },
     "execution_count": 21,
     "metadata": {},
     "output_type": "execute_result"
    }
   ],
   "source": [
    "db.stats()"
   ]
  },
  {
   "cell_type": "code",
   "execution_count": 24,
   "metadata": {},
   "outputs": [
    {
     "data": {
      "text/html": [
       "<style>a.disclosure:link{text-decoration:none;}a.disclosure:visited{text-decoration:none;}.disclosure{color:#337AB7;font-size:150%;}.syntax{color:grey;}.string{color:#9A334F;}.number{color:#5C9632;}.boolean{color:#AA9739;}.key{color:#403075;}.keyword{color:#AA9739;}.object.syntax{color:#337AB7;}.array.syntax{color:#337AB7;}></style><div id=\"acd30cef-e0be-4c5d-b6f3-8f0eb69e9d84\"></div>"
      ]
     },
     "metadata": {},
     "output_type": "display_data"
    },
    {
     "data": {
      "application/javascript": [
       "require([\"https://rawgit.com/caldwell/renderjson/master/renderjson.js\"], function() {document.getElementById('acd30cef-e0be-4c5d-b6f3-8f0eb69e9d84').appendChild(renderjson.set_show_to_level(2)({\"ns\": \"numbers.save\", \"size\": 70032, \"count\": 2001, \"avgObjSize\": 34, \"storageSize\": 61440, \"capped\": false, \"wiredTiger\": {\"metadata\": {\"formatVersion\": 1}, \"creationString\": \"access_pattern_hint=none,allocation_size=4KB,app_metadata=(formatVersion=1),block_allocation=best,block_compressor=snappy,cache_resident=false,checksum=on,colgroups=,collator=,columns=,dictionary=0,encryption=(keyid=,name=),exclusive=false,extractor=,format=btree,huffman_key=,huffman_value=,ignore_in_memory_cache_size=false,immutable=false,internal_item_max=0,internal_key_max=0,internal_key_truncate=true,internal_page_max=4KB,key_format=q,key_gap=10,leaf_item_max=0,leaf_key_max=0,leaf_page_max=32KB,leaf_value_max=64MB,log=(enabled=true),lsm=(auto_throttle=true,bloom=true,bloom_bit_count=16,bloom_config=,bloom_hash_count=8,bloom_oldest=false,chunk_count_limit=0,chunk_max=5GB,chunk_size=10MB,merge_max=15,merge_min=0),memory_page_max=10m,os_cache_dirty_max=0,os_cache_max=0,prefix_compression=false,prefix_compression_min=4,source=,split_deepen_min_child=0,split_deepen_per_child=0,split_pct=90,type=file,value_format=u\", \"type\": \"file\", \"uri\": \"statistics:table:collection-8--6609576569387088053\", \"LSM\": {\"bloom filter false positives\": 0, \"bloom filter hits\": 0, \"bloom filter misses\": 0, \"bloom filter pages evicted from cache\": 0, \"bloom filter pages read into cache\": 0, \"bloom filters in the LSM tree\": 0, \"chunks in the LSM tree\": 0, \"highest merge generation in the LSM tree\": 0, \"queries that could have benefited from a Bloom filter that did not exist\": 0, \"sleep for LSM checkpoint throttle\": 0, \"sleep for LSM merge throttle\": 0, \"total size of bloom filters\": 0}, \"block-manager\": {\"allocations requiring file extension\": 9, \"blocks allocated\": 9, \"blocks freed\": 1, \"checkpoint size\": 32768, \"file allocation unit size\": 4096, \"file bytes available for reuse\": 12288, \"file magic number\": 120897, \"file major version number\": 1, \"file size in bytes\": 61440, \"minor version number\": 0}, \"btree\": {\"btree checkpoint generation\": 51, \"column-store fixed-size leaf pages\": 0, \"column-store internal pages\": 0, \"column-store variable-size RLE encoded values\": 0, \"column-store variable-size deleted values\": 0, \"column-store variable-size leaf pages\": 0, \"fixed-record size\": 0, \"maximum internal page key size\": 368, \"maximum internal page size\": 4096, \"maximum leaf page key size\": 2867, \"maximum leaf page size\": 32768, \"maximum leaf page value size\": 67108864, \"maximum tree depth\": 3, \"number of key/value pairs\": 0, \"overflow pages\": 0, \"pages rewritten by compaction\": 0, \"row-store internal pages\": 0, \"row-store leaf pages\": 0}, \"cache\": {\"bytes currently in the cache\": 201057, \"bytes read into cache\": 0, \"bytes written from cache\": 78294, \"checkpoint blocked page eviction\": 0, \"data source pages selected for eviction unable to be evicted\": 0, \"hazard pointer blocked page eviction\": 0, \"in-memory page passed criteria to be split\": 0, \"in-memory page splits\": 0, \"internal pages evicted\": 0, \"internal pages split during eviction\": 0, \"leaf pages split during eviction\": 0, \"modified pages evicted\": 0, \"overflow pages read into cache\": 0, \"overflow values cached in memory\": 0, \"page split during eviction deepened the tree\": 0, \"page written requiring lookaside records\": 0, \"pages read into cache\": 0, \"pages read into cache requiring lookaside entries\": 0, \"pages requested from the cache\": 2067, \"pages written from cache\": 6, \"pages written requiring in-memory restoration\": 0, \"tracked dirty bytes in the cache\": 0, \"unmodified pages evicted\": 0}, \"cache_walk\": {\"Average difference between current eviction generation when the page was last considered\": 0, \"Average on-disk page image size seen\": 0, \"Clean pages currently in cache\": 0, \"Current eviction generation\": 0, \"Dirty pages currently in cache\": 0, \"Entries in the root page\": 0, \"Internal pages currently in cache\": 0, \"Leaf pages currently in cache\": 0, \"Maximum difference between current eviction generation when the page was last considered\": 0, \"Maximum page size seen\": 0, \"Minimum on-disk page image size seen\": 0, \"On-disk page image sizes smaller than a single allocation unit\": 0, \"Pages created in memory and never written\": 0, \"Pages currently queued for eviction\": 0, \"Pages that could not be queued for eviction\": 0, \"Refs skipped during cache traversal\": 0, \"Size of the root page\": 0, \"Total number of pages currently in cache\": 0}, \"compression\": {\"compressed pages read\": 0, \"compressed pages written\": 3, \"page written failed to compress\": 0, \"page written was too small to compress\": 3, \"raw compression call failed, additional data available\": 0, \"raw compression call failed, no additional data available\": 0, \"raw compression call succeeded\": 0}, \"cursor\": {\"bulk-loaded cursor-insert calls\": 0, \"create calls\": 3, \"cursor-insert key and value bytes inserted\": 73971, \"cursor-remove key bytes removed\": 0, \"cursor-update value bytes updated\": 0, \"insert calls\": 2001, \"next calls\": 8111, \"prev calls\": 1, \"remove calls\": 0, \"reset calls\": 2069, \"restarted searches\": 0, \"search calls\": 0, \"search near calls\": 60, \"truncate calls\": 0, \"update calls\": 0}, \"reconciliation\": {\"dictionary matches\": 0, \"fast-path pages deleted\": 0, \"internal page key bytes discarded using suffix compression\": 5, \"internal page multi-block writes\": 0, \"internal-page overflow keys\": 0, \"leaf page key bytes discarded using prefix compression\": 0, \"leaf page multi-block writes\": 1, \"leaf-page overflow keys\": 0, \"maximum blocks required for a page\": 3, \"overflow values written\": 0, \"page checksum matches\": 0, \"page reconciliation calls\": 4, \"page reconciliation calls for eviction\": 0, \"pages deleted\": 0}, \"session\": {\"object compaction\": 0, \"open cursor count\": 2}, \"transaction\": {\"update conflicts\": 0}}, \"nindexes\": 1, \"totalIndexSize\": 45056, \"indexSizes\": {\"_id_\": 45056}, \"ok\": 1}))});"
      ]
     },
     "metadata": {},
     "output_type": "display_data"
    },
    {
     "data": {
      "text/plain": [
       "{\r\n",
       "\t\"ns\" : \"numbers.save\",\r\n",
       "\t\"size\" : 70032,\r\n",
       "\t\"count\" : 2001,\r\n",
       "\t\"avgObjSize\" : 34,\r\n",
       "\t\"storageSize\" : 61440,\r\n",
       "\t\"capped\" : false,\r\n",
       "\t\"wiredTiger\" : {\r\n",
       "\t\t\"metadata\" : {\r\n",
       "\t\t\t\"formatVersion\" : 1\r\n",
       "\t\t},\r\n",
       "\t\t\"creationString\" : \"access_pattern_hint=none,allocation_size=4KB,app_metadata=(formatVersion=1),block_allocation=best,block_compressor=snappy,cache_resident=false,checksum=on,colgroups=,collator=,columns=,dictionary=0,encryption=(keyid=,name=),exclusive=false,extractor=,format=btree,huffman_key=,huffman_value=,ignore_in_memory_cache_size=false,immutable=false,internal_item_max=0,internal_key_max=0,internal_key_truncate=true,internal_page_max=4KB,key_format=q,key_gap=10,leaf_item_max=0,leaf_key_max=0,leaf_page_max=32KB,leaf_value_max=64MB,log=(enabled=true),lsm=(auto_throttle=true,bloom=true,bloom_bit_count=16,bloom_config=,bloom_hash_count=8,bloom_oldest=false,chunk_count_limit=0,chunk_max=5GB,chunk_size=10MB,merge_max=15,merge_min=0),memory_page_max=10m,os_cache_dirty_max=0,os_cache_max=0,prefix_compression=false,prefix_compression_min=4,source=,split_deepen_min_child=0,split_deepen_per_child=0,split_pct=90,type=file,value_format=u\",\r\n",
       "\t\t\"type\" : \"file\",\r\n",
       "\t\t\"uri\" : \"statistics:table:collection-8--6609576569387088053\",\r\n",
       "\t\t\"LSM\" : {\r\n",
       "\t\t\t\"bloom filter false positives\" : 0,\r\n",
       "\t\t\t\"bloom filter hits\" : 0,\r\n",
       "\t\t\t\"bloom filter misses\" : 0,\r\n",
       "\t\t\t\"bloom filter pages evicted from cache\" : 0,\r\n",
       "\t\t\t\"bloom filter pages read into cache\" : 0,\r\n",
       "\t\t\t\"bloom filters in the LSM tree\" : 0,\r\n",
       "\t\t\t\"chunks in the LSM tree\" : 0,\r\n",
       "\t\t\t\"highest merge generation in the LSM tree\" : 0,\r\n",
       "\t\t\t\"queries that could have benefited from a Bloom filter that did not exist\" : 0,\r\n",
       "\t\t\t\"sleep for LSM checkpoint throttle\" : 0,\r\n",
       "\t\t\t\"sleep for LSM merge throttle\" : 0,\r\n",
       "\t\t\t\"total size of bloom filters\" : 0\r\n",
       "\t\t},\r\n",
       "\t\t\"block-manager\" : {\r\n",
       "\t\t\t\"allocations requiring file extension\" : 9,\r\n",
       "\t\t\t\"blocks allocated\" : 9,\r\n",
       "\t\t\t\"blocks freed\" : 1,\r\n",
       "\t\t\t\"checkpoint size\" : 32768,\r\n",
       "\t\t\t\"file allocation unit size\" : 4096,\r\n",
       "\t\t\t\"file bytes available for reuse\" : 12288,\r\n",
       "\t\t\t\"file magic number\" : 120897,\r\n",
       "\t\t\t\"file major version number\" : 1,\r\n",
       "\t\t\t\"file size in bytes\" : 61440,\r\n",
       "\t\t\t\"minor version number\" : 0\r\n",
       "\t\t},\r\n",
       "\t\t\"btree\" : {\r\n",
       "\t\t\t\"btree checkpoint generation\" : 51,\r\n",
       "\t\t\t\"column-store fixed-size leaf pages\" : 0,\r\n",
       "\t\t\t\"column-store internal pages\" : 0,\r\n",
       "\t\t\t\"column-store variable-size RLE encoded values\" : 0,\r\n",
       "\t\t\t\"column-store variable-size deleted values\" : 0,\r\n",
       "\t\t\t\"column-store variable-size leaf pages\" : 0,\r\n",
       "\t\t\t\"fixed-record size\" : 0,\r\n",
       "\t\t\t\"maximum internal page key size\" : 368,\r\n",
       "\t\t\t\"maximum internal page size\" : 4096,\r\n",
       "\t\t\t\"maximum leaf page key size\" : 2867,\r\n",
       "\t\t\t\"maximum leaf page size\" : 32768,\r\n",
       "\t\t\t\"maximum leaf page value size\" : 67108864,\r\n",
       "\t\t\t\"maximum tree depth\" : 3,\r\n",
       "\t\t\t\"number of key/value pairs\" : 0,\r\n",
       "\t\t\t\"overflow pages\" : 0,\r\n",
       "\t\t\t\"pages rewritten by compaction\" : 0,\r\n",
       "\t\t\t\"row-store internal pages\" : 0,\r\n",
       "\t\t\t\"row-store leaf pages\" : 0\r\n",
       "\t\t},\r\n",
       "\t\t\"cache\" : {\r\n",
       "\t\t\t\"bytes currently in the cache\" : 201057,\r\n",
       "\t\t\t\"bytes read into cache\" : 0,\r\n",
       "\t\t\t\"bytes written from cache\" : 78294,\r\n",
       "\t\t\t\"checkpoint blocked page eviction\" : 0,\r\n",
       "\t\t\t\"data source pages selected for eviction unable to be evicted\" : 0,\r\n",
       "\t\t\t\"hazard pointer blocked page eviction\" : 0,\r\n",
       "\t\t\t\"in-memory page passed criteria to be split\" : 0,\r\n",
       "\t\t\t\"in-memory page splits\" : 0,\r\n",
       "\t\t\t\"internal pages evicted\" : 0,\r\n",
       "\t\t\t\"internal pages split during eviction\" : 0,\r\n",
       "\t\t\t\"leaf pages split during eviction\" : 0,\r\n",
       "\t\t\t\"modified pages evicted\" : 0,\r\n",
       "\t\t\t\"overflow pages read into cache\" : 0,\r\n",
       "\t\t\t\"overflow values cached in memory\" : 0,\r\n",
       "\t\t\t\"page split during eviction deepened the tree\" : 0,\r\n",
       "\t\t\t\"page written requiring lookaside records\" : 0,\r\n",
       "\t\t\t\"pages read into cache\" : 0,\r\n",
       "\t\t\t\"pages read into cache requiring lookaside entries\" : 0,\r\n",
       "\t\t\t\"pages requested from the cache\" : 2067,\r\n",
       "\t\t\t\"pages written from cache\" : 6,\r\n",
       "\t\t\t\"pages written requiring in-memory restoration\" : 0,\r\n",
       "\t\t\t\"tracked dirty bytes in the cache\" : 0,\r\n",
       "\t\t\t\"unmodified pages evicted\" : 0\r\n",
       "\t\t},\r\n",
       "\t\t\"cache_walk\" : {\r\n",
       "\t\t\t\"Average difference between current eviction generation when the page was last considered\" : 0,\r\n",
       "\t\t\t\"Average on-disk page image size seen\" : 0,\r\n",
       "\t\t\t\"Clean pages currently in cache\" : 0,\r\n",
       "\t\t\t\"Current eviction generation\" : 0,\r\n",
       "\t\t\t\"Dirty pages currently in cache\" : 0,\r\n",
       "\t\t\t\"Entries in the root page\" : 0,\r\n",
       "\t\t\t\"Internal pages currently in cache\" : 0,\r\n",
       "\t\t\t\"Leaf pages currently in cache\" : 0,\r\n",
       "\t\t\t\"Maximum difference between current eviction generation when the page was last considered\" : 0,\r\n",
       "\t\t\t\"Maximum page size seen\" : 0,\r\n",
       "\t\t\t\"Minimum on-disk page image size seen\" : 0,\r\n",
       "\t\t\t\"On-disk page image sizes smaller than a single allocation unit\" : 0,\r\n",
       "\t\t\t\"Pages created in memory and never written\" : 0,\r\n",
       "\t\t\t\"Pages currently queued for eviction\" : 0,\r\n",
       "\t\t\t\"Pages that could not be queued for eviction\" : 0,\r\n",
       "\t\t\t\"Refs skipped during cache traversal\" : 0,\r\n",
       "\t\t\t\"Size of the root page\" : 0,\r\n",
       "\t\t\t\"Total number of pages currently in cache\" : 0\r\n",
       "\t\t},\r\n",
       "\t\t\"compression\" : {\r\n",
       "\t\t\t\"compressed pages read\" : 0,\r\n",
       "\t\t\t\"compressed pages written\" : 3,\r\n",
       "\t\t\t\"page written failed to compress\" : 0,\r\n",
       "\t\t\t\"page written was too small to compress\" : 3,\r\n",
       "\t\t\t\"raw compression call failed, additional data available\" : 0,\r\n",
       "\t\t\t\"raw compression call failed, no additional data available\" : 0,\r\n",
       "\t\t\t\"raw compression call succeeded\" : 0\r\n",
       "\t\t},\r\n",
       "\t\t\"cursor\" : {\r\n",
       "\t\t\t\"bulk-loaded cursor-insert calls\" : 0,\r\n",
       "\t\t\t\"create calls\" : 3,\r\n",
       "\t\t\t\"cursor-insert key and value bytes inserted\" : 73971,\r\n",
       "\t\t\t\"cursor-remove key bytes removed\" : 0,\r\n",
       "\t\t\t\"cursor-update value bytes updated\" : 0,\r\n",
       "\t\t\t\"insert calls\" : 2001,\r\n",
       "\t\t\t\"next calls\" : 8111,\r\n",
       "\t\t\t\"prev calls\" : 1,\r\n",
       "\t\t\t\"remove calls\" : 0,\r\n",
       "\t\t\t\"reset calls\" : 2069,\r\n",
       "\t\t\t\"restarted searches\" : 0,\r\n",
       "\t\t\t\"search calls\" : 0,\r\n",
       "\t\t\t\"search near calls\" : 60,\r\n",
       "\t\t\t\"truncate calls\" : 0,\r\n",
       "\t\t\t\"update calls\" : 0\r\n",
       "\t\t},\r\n",
       "\t\t\"reconciliation\" : {\r\n",
       "\t\t\t\"dictionary matches\" : 0,\r\n",
       "\t\t\t\"fast-path pages deleted\" : 0,\r\n",
       "\t\t\t\"internal page key bytes discarded using suffix compression\" : 5,\r\n",
       "\t\t\t\"internal page multi-block writes\" : 0,\r\n",
       "\t\t\t\"internal-page overflow keys\" : 0,\r\n",
       "\t\t\t\"leaf page key bytes discarded using prefix compression\" : 0,\r\n",
       "\t\t\t\"leaf page multi-block writes\" : 1,\r\n",
       "\t\t\t\"leaf-page overflow keys\" : 0,\r\n",
       "\t\t\t\"maximum blocks required for a page\" : 3,\r\n",
       "\t\t\t\"overflow values written\" : 0,\r\n",
       "\t\t\t\"page checksum matches\" : 0,\r\n",
       "\t\t\t\"page reconciliation calls\" : 4,\r\n",
       "\t\t\t\"page reconciliation calls for eviction\" : 0,\r\n",
       "\t\t\t\"pages deleted\" : 0\r\n",
       "\t\t},\r\n",
       "\t\t\"session\" : {\r\n",
       "\t\t\t\"object compaction\" : 0,\r\n",
       "\t\t\t\"open cursor count\" : 2\r\n",
       "\t\t},\r\n",
       "\t\t\"transaction\" : {\r\n",
       "\t\t\t\"update conflicts\" : 0\r\n",
       "\t\t}\r\n",
       "\t},\r\n",
       "\t\"nindexes\" : 1,\r\n",
       "\t\"totalIndexSize\" : 45056,\r\n",
       "\t\"indexSizes\" : {\r\n",
       "\t\t\"_id_\" : 45056\r\n",
       "\t},\r\n",
       "\t\"ok\" : 1\r\n",
       "}"
      ]
     },
     "execution_count": 24,
     "metadata": {},
     "output_type": "execute_result"
    }
   ],
   "source": [
    "db.save.stats()"
   ]
  },
  {
   "cell_type": "code",
   "execution_count": 25,
   "metadata": {
    "scrolled": true
   },
   "outputs": [
    {
     "data": {},
     "metadata": {},
     "output_type": "display_data"
    },
    {
     "data": {},
     "metadata": {},
     "output_type": "display_data"
    },
    {
     "data": {
      "text/plain": [
       "numbers.save.get"
      ]
     },
     "execution_count": 25,
     "metadata": {},
     "output_type": "execute_result"
    }
   ],
   "source": [
    "db.save.get"
   ]
  },
  {
   "cell_type": "code",
   "execution_count": null,
   "metadata": {},
   "outputs": [],
   "source": []
  }
 ],
 "metadata": {
  "kernelspec": {
   "display_name": "IMongo",
   "language": "",
   "name": "imongo"
  },
  "language_info": {
   "codemirror_mode": "shell",
   "file_extension": ".js",
   "mimetype": "text/x-mongodb",
   "name": "javascript"
  }
 },
 "nbformat": 4,
 "nbformat_minor": 2
}
