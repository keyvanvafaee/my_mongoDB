{
 "cells": [
  {
   "cell_type": "markdown",
   "metadata": {},
   "source": [
    "# Chapter 3\n",
    "\n",
    "\n",
    "First we must make sure that mongod is running by\n",
    "running the mongo shell to ensure you can connect\n",
    "\n",
    "so we run \"rubymongo.rb\""
   ]
  },
  {
   "cell_type": "code",
   "execution_count": 1,
   "metadata": {},
   "outputs": [
    {
     "name": "stdout",
     "output_type": "stream",
     "text": [
      "D, [2019-01-22T12:58:48.597416 #10823] DEBUG -- : MONGODB | EVENT: #<Mongo::Monitoring::Event::TopologyOpening topology=Unknown>\n",
      "D, [2019-01-22T12:58:48.597789 #10823] DEBUG -- : MONGODB | Topology type 'unknown' initializing.\n",
      "D, [2019-01-22T12:58:48.598205 #10823] DEBUG -- : MONGODB | EVENT: #<Mongo::Monitoring::Event::ServerOpening address=127.0.0.1:27017 topology=Unknown>\n",
      "D, [2019-01-22T12:58:48.598574 #10823] DEBUG -- : MONGODB | Server 127.0.0.1:27017 initializing.\n",
      "D, [2019-01-22T12:58:48.601039 #10823] DEBUG -- : MONGODB | EVENT: #<Mongo::Monitoring::Event::TopologyChanged prev=Unknown new=Single>\n",
      "D, [2019-01-22T12:58:48.601518 #10823] DEBUG -- : MONGODB | Topology type 'unknown' changed to type 'single'.\n",
      "D, [2019-01-22T12:58:48.601974 #10823] DEBUG -- : MONGODB | EVENT: #<Mongo::Monitoring::Event::ServerDescriptionChanged>\n",
      "D, [2019-01-22T12:58:48.605813 #10823] DEBUG -- : MONGODB | Server description for 127.0.0.1:27017 changed from 'unknown' to 'standalone'.\n",
      "D, [2019-01-22T12:58:48.606385 #10823] DEBUG -- : MONGODB | EVENT: #<Mongo::Monitoring::Event::TopologyChanged prev=Single new=Single>\n",
      "D, [2019-01-22T12:58:48.606850 #10823] DEBUG -- : MONGODB | There was a change in the members of the 'single' topology.\n",
      "connected!\n"
     ]
    },
    {
     "data": {
      "text/plain": [
       "true"
      ]
     },
     "execution_count": 1,
     "metadata": {},
     "output_type": "execute_result"
    }
   ],
   "source": [
    "require './rubymongo'"
   ]
  },
  {
   "cell_type": "markdown",
   "metadata": {},
   "source": [
    "We must Connect to 'irb'"
   ]
  },
  {
   "cell_type": "code",
   "execution_count": 12,
   "metadata": {},
   "outputs": [
    {
     "data": {
      "text/plain": [
       "true"
      ]
     },
     "execution_count": 12,
     "metadata": {},
     "output_type": "execute_result"
    }
   ],
   "source": [
    "require 'irb'"
   ]
  },
  {
   "cell_type": "markdown",
   "metadata": {},
   "source": [
    "insert Data to User Collection"
   ]
  },
  {
   "cell_type": "code",
   "execution_count": 14,
   "metadata": {},
   "outputs": [
    {
     "data": {
      "text/plain": [
       "#<Mongo::Operation::Insert::Result:0x47120786489260 documents=[{\"n\"=>1, \"ok\"=>1.0}]>"
      ]
     },
     "execution_count": 14,
     "metadata": {},
     "output_type": "execute_result"
    }
   ],
   "source": [
    "id = $users.insert_one({\"last_name\" => \"mtsouk\"})"
   ]
  },
  {
   "cell_type": "markdown",
   "metadata": {},
   "source": [
    "insert Data to User Collection"
   ]
  },
  {
   "cell_type": "code",
   "execution_count": 16,
   "metadata": {},
   "outputs": [
    {
     "data": {
      "text/plain": [
       "{\"last_name\"=>\"smith\", \"age\"=>30}"
      ]
     },
     "execution_count": 16,
     "metadata": {},
     "output_type": "execute_result"
    }
   ],
   "source": [
    "smith = {\"last_name\" => \"smith\", \"age\" => 30}"
   ]
  },
  {
   "cell_type": "markdown",
   "metadata": {},
   "source": [
    "insert Query to jones variable"
   ]
  },
  {
   "cell_type": "code",
   "execution_count": 17,
   "metadata": {},
   "outputs": [
    {
     "data": {
      "text/plain": [
       "{\"last_name\"=>\"jones\", \"age\"=>40}"
      ]
     },
     "execution_count": 17,
     "metadata": {},
     "output_type": "execute_result"
    }
   ],
   "source": [
    "jones = {\"last_name\" => \"jones\", \"age\" => 40}"
   ]
  },
  {
   "cell_type": "markdown",
   "metadata": {},
   "source": [
    "insert smith id to variable"
   ]
  },
  {
   "cell_type": "code",
   "execution_count": 18,
   "metadata": {},
   "outputs": [
    {
     "data": {
      "text/plain": [
       "#<Mongo::Operation::Insert::Result:0x47120787404980 documents=[{\"n\"=>1, \"ok\"=>1.0}]>"
      ]
     },
     "execution_count": 18,
     "metadata": {},
     "output_type": "execute_result"
    }
   ],
   "source": [
    "smith_id = $users.insert_one(smith)"
   ]
  },
  {
   "cell_type": "code",
   "execution_count": 19,
   "metadata": {},
   "outputs": [
    {
     "data": {
      "text/plain": [
       "#<Mongo::Operation::Insert::Result:0x47120787573780 documents=[{\"n\"=>1, \"ok\"=>1.0}]>"
      ]
     },
     "execution_count": 19,
     "metadata": {},
     "output_type": "execute_result"
    }
   ],
   "source": [
    "jones_id = $users.insert_one(jones)"
   ]
  },
  {
   "cell_type": "markdown",
   "metadata": {},
   "source": [
    "find collections that are older than 20"
   ]
  },
  {
   "cell_type": "code",
   "execution_count": 20,
   "metadata": {},
   "outputs": [
    {
     "data": {
      "text/plain": [
       "[{\"_id\"=>BSON::ObjectId('5c475cc468238c2a470c82de'), \"last_name\"=>\"smith\", \"age\"=>30}, {\"_id\"=>BSON::ObjectId('5c475ccf68238c2a470c82df'), \"last_name\"=>\"jones\", \"age\"=>40}]"
      ]
     },
     "execution_count": 20,
     "metadata": {},
     "output_type": "execute_result"
    }
   ],
   "source": [
    "$users.find( :age => {\"$gt\" => 20}).to_a"
   ]
  },
  {
   "cell_type": "code",
   "execution_count": 21,
   "metadata": {},
   "outputs": [
    {
     "data": {
      "text/plain": [
       "[{\"_id\"=>BSON::ObjectId('5c475cc468238c2a470c82de'), \"last_name\"=>\"smith\", \"age\"=>30}]"
      ]
     },
     "execution_count": 21,
     "metadata": {},
     "output_type": "execute_result"
    }
   ],
   "source": [
    "$users.find({\"last_name\" => \"smith\"}).to_a"
   ]
  },
  {
   "cell_type": "code",
   "execution_count": 22,
   "metadata": {},
   "outputs": [
    {
     "data": {
      "text/plain": [
       "[{\"_id\"=>BSON::ObjectId('5c475ccf68238c2a470c82df'), \"last_name\"=>\"jones\", \"age\"=>40}]"
      ]
     },
     "execution_count": 22,
     "metadata": {},
     "output_type": "execute_result"
    }
   ],
   "source": [
    "$users.find({\"age\" => {\"$gt\" => 30}}).to_a"
   ]
  },
  {
   "cell_type": "code",
   "execution_count": 23,
   "metadata": {},
   "outputs": [
    {
     "data": {
      "text/plain": [
       "#<Mongo::Collection::View:0x47120788329920 namespace='tutorial.users' @filter={\"age\"=>{\"$gt\"=>30}} @options={}>"
      ]
     },
     "execution_count": 23,
     "metadata": {},
     "output_type": "execute_result"
    }
   ],
   "source": [
    "$users.find({\"age\" => {\"$gt\" => 30}})"
   ]
  },
  {
   "cell_type": "code",
   "execution_count": 24,
   "metadata": {},
   "outputs": [
    {
     "data": {
      "text/plain": [
       "#<Mongo::Collection::View:0x47120790441980 namespace='tutorial.users' @filter={\"age\"=>{\"$gt\"=>30}} @options={}>"
      ]
     },
     "execution_count": 24,
     "metadata": {},
     "output_type": "execute_result"
    }
   ],
   "source": [
    "cursor = $users.find({\"age\" => {\"$gt\" => 30}})"
   ]
  },
  {
   "cell_type": "code",
   "execution_count": 25,
   "metadata": {},
   "outputs": [
    {
     "name": "stdout",
     "output_type": "stream",
     "text": [
      "jones\n"
     ]
    },
    {
     "data": {
      "text/plain": [
       "#<Enumerator: #<Mongo::Cursor:0x47120788457100 @view=#<Mongo::Collection::View:0x47120790441980 namespace='tutorial.users' @filter={\"age\"=>{\"$gt\"=>30}} @options={}>>:each>"
      ]
     },
     "execution_count": 25,
     "metadata": {},
     "output_type": "execute_result"
    }
   ],
   "source": [
    "cursor.each do |doc|\n",
    "puts doc[\"last_name\"]\n",
    "end"
   ]
  },
  {
   "cell_type": "markdown",
   "metadata": {},
   "source": [
    "# Updates and deletes\n",
    "\n",
    "a query selector and an update document\n"
   ]
  },
  {
   "cell_type": "code",
   "execution_count": 26,
   "metadata": {},
   "outputs": [
    {
     "data": {
      "text/plain": [
       "#<Mongo::Operation::Update::Result:0x47120790479920 documents=[{\"n\"=>1, \"nModified\"=>1, \"ok\"=>1.0}]>"
      ]
     },
     "execution_count": 26,
     "metadata": {},
     "output_type": "execute_result"
    }
   ],
   "source": [
    "$users.find({\"last_name\" => \"smith\"}).update_one({\"$set\" => {\"city\" =>\"Chicago\"}})"
   ]
  },
  {
   "cell_type": "code",
   "execution_count": 27,
   "metadata": {},
   "outputs": [
    {
     "data": {
      "text/plain": [
       "[{\"_id\"=>BSON::ObjectId('5c475cc468238c2a470c82de'), \"last_name\"=>\"smith\", \"age\"=>30, \"city\"=>\"Chicago\"}]"
      ]
     },
     "execution_count": 27,
     "metadata": {},
     "output_type": "execute_result"
    }
   ],
   "source": [
    "$users.find({\"last_name\" => \"smith\"}).to_a"
   ]
  },
  {
   "cell_type": "markdown",
   "metadata": {},
   "source": [
    "if you actually want to apply the update to all smith documents, you must\n",
    "replace the update_one with the update_many method:"
   ]
  },
  {
   "cell_type": "code",
   "execution_count": 28,
   "metadata": {},
   "outputs": [
    {
     "data": {
      "text/plain": [
       "#<Mongo::Operation::Update::Result:0x47120790583300 documents=[{\"n\"=>1, \"nModified\"=>0, \"ok\"=>1.0}]>"
      ]
     },
     "execution_count": 28,
     "metadata": {},
     "output_type": "execute_result"
    }
   ],
   "source": [
    "$users.find({\"last_name\" => \"smith\"}).update_many({\"$set\" => {\"city\" =>\n",
    "\"Chicago\"}})"
   ]
  },
  {
   "cell_type": "markdown",
   "metadata": {},
   "source": [
    "removing all user documents where the age attribute is greater than or equal to 40"
   ]
  },
  {
   "cell_type": "code",
   "execution_count": 29,
   "metadata": {},
   "outputs": [
    {
     "data": {
      "text/plain": [
       "#<Mongo::Operation::Delete::Result:0x47120790586000 documents=[{\"n\"=>1, \"ok\"=>1.0}]>"
      ]
     },
     "execution_count": 29,
     "metadata": {},
     "output_type": "execute_result"
    }
   ],
   "source": [
    "$users.find({\"age\" => {\"$gte\" => 40}}).delete_one"
   ]
  },
  {
   "cell_type": "markdown",
   "metadata": {},
   "source": [
    "If you want to delete all documents matching the criteria"
   ]
  },
  {
   "cell_type": "code",
   "execution_count": 30,
   "metadata": {},
   "outputs": [
    {
     "data": {
      "text/plain": [
       "#<Mongo::Operation::Delete::Result:0x47120790602140 documents=[{\"n\"=>0, \"ok\"=>1.0}]>"
      ]
     },
     "execution_count": 30,
     "metadata": {},
     "output_type": "execute_result"
    }
   ],
   "source": [
    "$users.find({\"age\" => {\"$gte\" => 40}}).delete_many"
   ]
  },
  {
   "cell_type": "markdown",
   "metadata": {},
   "source": [
    "With no arguments, the drop method deletes all remaining document"
   ]
  },
  {
   "cell_type": "markdown",
   "metadata": {},
   "source": [
    "# Database commands"
   ]
  },
  {
   "cell_type": "code",
   "execution_count": 31,
   "metadata": {},
   "outputs": [
    {
     "data": {
      "text/plain": [
       "#<Mongo::Operation::Result:0x47120790631000 documents=[{\"databases\"=>[{\"name\"=>\"api_bots\", \"sizeOnDisk\"=>49152.0, \"empty\"=>false}, {\"name\"=>\"banner\", \"sizeOnDisk\"=>73728.0, \"empty\"=>false}, {\"name\"=>\"customer\", \"sizeOnDisk\"=>172032.0, \"empty\"=>false}, {\"name\"=>\"imongo\", \"sizeOnDisk\"=>65536.0, \"empty\"=>false}, {\"name\"=>\"local\", \"sizeOnDisk\"=>86016.0, \"empty\"=>false}, {\"name\"=>\"mongo\", \"sizeOnDisk\"=>106496.0, \"empty\"=>false}, {\"name\"=>\"numbers\", \"sizeOnDisk\"=>106496.0, \"empty\"=>false}, {\"name\"=>\"terminator\", \"sizeOnDisk\"=>40960.0, \"empty\"=>false}, {\"name\"=>\"test\", \"sizeOnDisk\"=>4747264.0, \"empty\"=>false}, {\"name\"=>\"tools\", \"sizeOnDisk\"=>122880.0, \"empty\"=>false}, {\"name\"=>\"tutorial\", \"sizeOnDisk\"=>73728.0, \"empty\"=>false}], \"totalSize\"=>5644288.0, \"ok\"=>1.0}]>"
      ]
     },
     "execution_count": 31,
     "metadata": {},
     "output_type": "execute_result"
    }
   ],
   "source": [
    "$admin_db = $client.use('admin')\n",
    "$admin_db.command({\"listDatabases\" => 1})"
   ]
  },
  {
   "cell_type": "markdown",
   "metadata": {},
   "source": [
    "To drop a collection and all its indexes, use the drop_collection method:"
   ]
  },
  {
   "cell_type": "code",
   "execution_count": 32,
   "metadata": {},
   "outputs": [
    {
     "data": {
      "text/plain": [
       "#<Mongo::Client:0x70292609500080 cluster=127.0.0.1:27017>"
      ]
     },
     "execution_count": 32,
     "metadata": {},
     "output_type": "execute_result"
    }
   ],
   "source": [
    "db = $client.use('tutorial')"
   ]
  },
  {
   "cell_type": "code",
   "execution_count": 33,
   "metadata": {},
   "outputs": [
    {
     "data": {
      "text/plain": [
       "#<Mongo::Operation::Result:0x47120790651760 documents=[{\"ns\"=>\"tutorial.users\", \"nIndexesWas\"=>1, \"ok\"=>1.0}]>"
      ]
     },
     "execution_count": 33,
     "metadata": {},
     "output_type": "execute_result"
    }
   ],
   "source": [
    "db['users'].drop"
   ]
  },
  {
   "cell_type": "code",
   "execution_count": null,
   "metadata": {},
   "outputs": [],
   "source": []
  }
 ],
 "metadata": {
  "kernelspec": {
   "display_name": "Ruby 2.5.1",
   "language": "ruby",
   "name": "ruby"
  },
  "language_info": {
   "file_extension": ".rb",
   "mimetype": "application/x-ruby",
   "name": "ruby",
   "version": "2.5.1"
  }
 },
 "nbformat": 4,
 "nbformat_minor": 2
}
